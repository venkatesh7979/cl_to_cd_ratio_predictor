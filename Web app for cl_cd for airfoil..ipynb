{
 "cells": [
  {
   "cell_type": "code",
   "execution_count": 2,
   "metadata": {},
   "outputs": [
    {
     "name": "stdout",
     "output_type": "stream",
     "text": [
      "C:\\Users\\venka\\OneDrive\\Desktop\\Cl and Cd Pred from airfoil\n"
     ]
    }
   ],
   "source": [
    "cd C:\\Users\\venka\\OneDrive\\Desktop\\Cl and Cd Pred from airfoil"
   ]
  },
  {
   "cell_type": "markdown",
   "metadata": {},
   "source": [
    "# Import the Libraries"
   ]
  },
  {
   "cell_type": "code",
   "execution_count": 3,
   "metadata": {},
   "outputs": [
    {
     "data": {
      "text/plain": [
       "<pywebio.io_ctrl.Output at 0x15dea6388b0>"
      ]
     },
     "execution_count": 3,
     "metadata": {},
     "output_type": "execute_result"
    },
    {
     "data": {
      "image/png": "[encoded data removed]",
      "text/plain": [
       "<Figure size 432x288 with 1 Axes>"
      ]
     },
     "metadata": {
      "needs_background": "light"
     },
     "output_type": "display_data"
    }
   ],
   "source": [
    "from pywebio.output import *\n",
    "from pywebio.input import * \n",
    "import time\n",
    "import numpy as np\n",
    "import matplotlib.pyplot as plt\n",
    "import math\n",
    "import datetime\n",
    "import pandas as pd\n",
    "import urllib.request\n",
    "import json\n",
    "from pywebio.platform.flask import webio_view\n",
    "from pywebio import STATIC_PATH\n",
    "from flask import Flask, send_from_directory\n",
    "from keras.models import load_model\n",
    "import base64\n",
    "from PIL import Image\n",
    "from io import BytesIO\n",
    "import matplotlib.image as mpimg\n",
    "model = load_model(\"cd_predictor.h5\")\n",
    "put_markdown('The Cl/Cd predictor for an airfoil images.')\n",
    "put_text(\"Upload the image to get the Cl/Cd value for the airfoil.\")\n",
    "with popup(\"Caution!\"):\n",
    "    put_text(\"Upload the binary image only with (128,128) size.\")\n",
    "put_text(\"Use the below website to get the images if you require.\")\n",
    "put_text(\"https://drive.google.com/drive/folders/1hEwBNF9_TAD_AVXiUfOJjFxX7A_o97ie?usp=sharing\")\n",
    "image = file_upload(\"Select a image:\", accept=\".\")\n",
    "im = Image.open(BytesIO(base64.b64decode(image['dataurl'].split(';')[1][7:])))\n",
    "plt.imshow(im)\n",
    "plt.imsave('yooo123.png',im)\n",
    "def rgb2gray(rgb):\n",
    "    return np.dot(rgb[...,:3], [0.2989, 0.5870, 0.1140])\n",
    "\n",
    "img = mpimg.imread('yooo123.png')     \n",
    "gray = rgb2gray(img)\n",
    "gray[gray>=0.5]=1.0\n",
    "gray[gray<0.5]=0.0\n",
    "gray=gray.reshape(1,128,128,1)\n",
    "out=model.predict(gray)\n",
    "put_text(\"Predicted Cl/Cd value is: \"+str(out[0]*309))\n",
    "put_image('yooo123.png',width='3000px')"
   ]
  },
  {
   "cell_type": "code",
   "execution_count": null,
   "metadata": {},
   "outputs": [],
   "source": []
  }
 ],
 "metadata": {
  "kernelspec": {
   "display_name": "Python 3",
   "language": "python",
   "name": "python3"
  },
  "language_info": {
   "codemirror_mode": {
    "name": "ipython",
    "version": 3
   },
   "file_extension": ".py",
   "mimetype": "text/x-python",
   "name": "python",
   "nbconvert_exporter": "python",
   "pygments_lexer": "ipython3",
   "version": "3.8.5"
  }
 },
 "nbformat": 4,
 "nbformat_minor": 4
}
